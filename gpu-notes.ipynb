{
 "cells": [
  {
   "cell_type": "markdown",
   "id": "2a65a5e7-3620-4715-97e7-5a4bbcfb03c7",
   "metadata": {},
   "source": [
    "# Graphics Processing Units (GPUs)\n",
    "\n",
    "- Originally designed to perform computationally intensive graphics calculations\n",
    "- GPUs as we know them today are largely derived from the NVIDIA GeForce 256 card, which was the first consumer level GPU\n",
    "- Quickly, scientists and engineers recognized the similarities in many of their problems and those that the GPU was designed to be very good at. This led to what we now refer to as General Purpose GPU (GPGPU) programming.\n",
    "    - Any problem which requires the application of similar operations to a lot of data can benefit from the architecture of GPUs\n",
    "- Though GPU hardware is capable of accelerating computation in many fields other than just graphics, to take full advantage of GPUs a software platform that allows GPU programs to be written similarly to CPU programs. The first to solve this problem was NVIDIA with CUDA paradigm.\n",
    "    - Soon after a vendor-agnostic language was created (OpenCL)\n",
    "- CUDA and OpenCL turned GPUs into general purpose computing devices that can be leveraged alongside CPUs to perform complex calculations"
   ]
  },
  {
   "cell_type": "markdown",
   "id": "7aa49a25-fa4f-4a57-97fb-e53e44c57938",
   "metadata": {},
   "source": [
    "# GPU vs. CPU\n",
    "\n",
    "- GPUs are \"external\" devices that must interface with a CPU \n",
    "- GPUs cores are usually around 2 times slower than CPUs (2-2.5 GHz compared to 4-6 GHz)\n",
    "- GPUs have **a lot** more cores than CPUs\n",
    "    - For example, an AMD Threadripper 3990X has 64 cores (which is about as much as you will find) while an NVIDIA RTX 3090 has more than 10000 CUDA cores. \n",
    "- This means that processes that are algorithmically single-threaded or not compute intensive will generally be faster on CPUs than GPUs and vice-versa."
   ]
  },
  {
   "cell_type": "markdown",
   "id": "b1cc3b47-c543-421e-b91b-3a21d1eb8456",
   "metadata": {},
   "source": [
    "# GPU Terminology\n",
    "\n",
    "- **Host** - the CPU that the GPU is connected to\n",
    "- **Device** - the GPU\n",
    "- **GPU Core** - processing unit of GPU\n",
    "- **GPU Thread** - execution context of a GPU core\n",
    "- **Kernel** - function created to be executed on the GPU"
   ]
  }
 ],
 "metadata": {
  "kernelspec": {
   "display_name": "Python 3 (ipykernel)",
   "language": "python",
   "name": "python3"
  },
  "language_info": {
   "codemirror_mode": {
    "name": "ipython",
    "version": 3
   },
   "file_extension": ".py",
   "mimetype": "text/x-python",
   "name": "python",
   "nbconvert_exporter": "python",
   "pygments_lexer": "ipython3",
   "version": "3.9.12"
  }
 },
 "nbformat": 4,
 "nbformat_minor": 5
}
